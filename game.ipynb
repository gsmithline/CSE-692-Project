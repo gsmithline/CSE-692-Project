{
 "cells": [
  {
   "cell_type": "code",
   "execution_count": 13,
   "metadata": {},
   "outputs": [],
   "source": [
    "import numpy as np\n",
    "\n",
    "class Offer:\n",
    "    def __init__(self, offer):\n",
    "        self.p1_offer = offer[0]\n",
    "        self.p2_offer = offer[1]\n",
    "\n",
    "    def total_items(self):\n",
    "        return self.p1_offer + self.p2_offer\n",
    "\n",
    "\n",
    "class NegotitaionGame:\n",
    "    def __init__(self, num_items=4):\n",
    "        if type(num_items) == int:\n",
    "            self.items = np.random.poisson(4, num_items)\n",
    "            self.num_items = num_items\n",
    "        else:\n",
    "            self.items = num_items\n",
    "            self.num_items = len(num_items)\n",
    "        \n",
    "        self.reset()\n",
    "\n",
    "    def reset(self):\n",
    "        self.p1_values = np.random.uniform(0, 1, self.num_items)\n",
    "        self.p2_values = np.random.uniform(0, 1, self.num_items)\n",
    "        self.current_player = 0\n",
    "        self.history = {0: [], 1: []}\n",
    "        self.current_offer = None\n",
    "        self.in_progress = True\n",
    "\n",
    "    def step(self, offer):\n",
    "        if offer == True:\n",
    "            self.in_progress = False\n",
    "\n",
    "        assert offer.total_items() == self.items\n",
    "        if self.current_player == 0:\n",
    "            self.history[0].append(offer)\n",
    "        else:\n",
    "            self.history[1].append(offer)\n",
    "\n",
    "        self.current_player = 1 - self.current_player\n",
    "\n",
    "    def summary(self):\n",
    "        return f\"\"\"Current player: Player {self.current_player + 1}\n",
    "\n",
    "        Game history:\n",
    "        Player 1's offers: {', '.join([f'[{\", \".join(map(str, offer.p1_offer))}]' for offer in self.history[0]])}\n",
    "        Player 2's offers: {', '.join([f'[{\", \".join(map(str, offer.p2_offer))}]' for offer in self.history[1]])}\n",
    "\n",
    "        The game is {'in progress' if self.in_progress else 'finished'}.\n",
    "\n",
    "        As an AI assistant, you can use this information to analyze the negotiation strategies of both players and provide insights or suggestions for their next moves.\"\"\"\n",
    "\n"
   ]
  },
  {
   "cell_type": "code",
   "execution_count": 14,
   "metadata": {},
   "outputs": [
    {
     "ename": "AttributeError",
     "evalue": "'NegotitaionGame' object has no attribute 'num_items'",
     "output_type": "error",
     "traceback": [
      "\u001b[1;31m---------------------------------------------------------------------------\u001b[0m",
      "\u001b[1;31mAttributeError\u001b[0m                            Traceback (most recent call last)",
      "Cell \u001b[1;32mIn[14], line 1\u001b[0m\n\u001b[1;32m----> 1\u001b[0m g \u001b[38;5;241m=\u001b[39m \u001b[43mNegotitaionGame\u001b[49m\u001b[43m(\u001b[49m\u001b[43m)\u001b[49m\n",
      "Cell \u001b[1;32mIn[13], line 19\u001b[0m, in \u001b[0;36mNegotitaionGame.__init__\u001b[1;34m(self, num_items)\u001b[0m\n\u001b[0;32m     16\u001b[0m \u001b[38;5;28;01melse\u001b[39;00m:\n\u001b[0;32m     17\u001b[0m     \u001b[38;5;28mself\u001b[39m\u001b[38;5;241m.\u001b[39mitems \u001b[38;5;241m=\u001b[39m num_items\n\u001b[1;32m---> 19\u001b[0m \u001b[38;5;28;43mself\u001b[39;49m\u001b[38;5;241;43m.\u001b[39;49m\u001b[43mreset\u001b[49m\u001b[43m(\u001b[49m\u001b[43m)\u001b[49m\n",
      "Cell \u001b[1;32mIn[13], line 22\u001b[0m, in \u001b[0;36mNegotitaionGame.reset\u001b[1;34m(self)\u001b[0m\n\u001b[0;32m     21\u001b[0m \u001b[38;5;28;01mdef\u001b[39;00m \u001b[38;5;21mreset\u001b[39m(\u001b[38;5;28mself\u001b[39m):\n\u001b[1;32m---> 22\u001b[0m     \u001b[38;5;28mself\u001b[39m\u001b[38;5;241m.\u001b[39mp1_values \u001b[38;5;241m=\u001b[39m np\u001b[38;5;241m.\u001b[39mrandom\u001b[38;5;241m.\u001b[39muniform(\u001b[38;5;241m0\u001b[39m, \u001b[38;5;241m1\u001b[39m, \u001b[38;5;28;43mself\u001b[39;49m\u001b[38;5;241;43m.\u001b[39;49m\u001b[43mnum_items\u001b[49m)\n\u001b[0;32m     23\u001b[0m     \u001b[38;5;28mself\u001b[39m\u001b[38;5;241m.\u001b[39mp2_values \u001b[38;5;241m=\u001b[39m np\u001b[38;5;241m.\u001b[39mrandom\u001b[38;5;241m.\u001b[39muniform(\u001b[38;5;241m0\u001b[39m, \u001b[38;5;241m1\u001b[39m, \u001b[38;5;28mself\u001b[39m\u001b[38;5;241m.\u001b[39mnum_items)\n\u001b[0;32m     24\u001b[0m     \u001b[38;5;28mself\u001b[39m\u001b[38;5;241m.\u001b[39mcurrent_player \u001b[38;5;241m=\u001b[39m \u001b[38;5;241m0\u001b[39m\n",
      "\u001b[1;31mAttributeError\u001b[0m: 'NegotitaionGame' object has no attribute 'num_items'"
     ]
    }
   ],
   "source": [
    "g = NegotitaionGame()\n"
   ]
  },
  {
   "cell_type": "code",
   "execution_count": 12,
   "metadata": {},
   "outputs": [],
   "source": [
    "g.step([2, 2, 1, 1])"
   ]
  },
  {
   "cell_type": "code",
   "execution_count": null,
   "metadata": {},
   "outputs": [],
   "source": []
  }
 ],
 "metadata": {
  "kernelspec": {
   "display_name": "base",
   "language": "python",
   "name": "python3"
  },
  "language_info": {
   "codemirror_mode": {
    "name": "ipython",
    "version": 3
   },
   "file_extension": ".py",
   "mimetype": "text/x-python",
   "name": "python",
   "nbconvert_exporter": "python",
   "pygments_lexer": "ipython3",
   "version": "3.12.2"
  }
 },
 "nbformat": 4,
 "nbformat_minor": 2
}
