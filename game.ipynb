{
 "cells": [
  {
   "cell_type": "code",
   "execution_count": 54,
   "metadata": {},
   "outputs": [],
   "source": [
    "import numpy as np\n",
    "\n",
    "class Offer:\n",
    "    def __init__(self, offer):\n",
    "        self.p1_offer = offer[0]\n",
    "        self.p2_offer = offer[1]\n",
    "\n",
    "    def total_items(self):\n",
    "        return self.p1_offer + self.p2_offer\n",
    "\n",
    "\n",
    "class NegotitaionGame:\n",
    "    def __init__(self, num_items=4):\n",
    "        if type(num_items) == int:\n",
    "            self.items = np.random.poisson(4, num_items)\n",
    "            self.num_items = num_items\n",
    "        else:\n",
    "            self.items = num_items\n",
    "            self.num_items = len(num_items)\n",
    "        \n",
    "        self.reset()\n",
    "\n",
    "    def reset(self):\n",
    "        self.p1_values = np.random.randint(1, 101, self.num_items)\n",
    "        self.p2_values = np.random.randint(1, 101, self.num_items)\n",
    "        self.current_player = 0\n",
    "        self.history = {0: [], 1: []}\n",
    "        self.current_offer = None\n",
    "        self.in_progress = True\n",
    "\n",
    "    def step(self, offer):\n",
    "        if offer == True:\n",
    "            self.in_progress = False\n",
    "\n",
    "        # assert np.all(offer.total_items() == self.items)\n",
    "        \n",
    "        if self.current_player == 0:\n",
    "            self.history[0].append(offer)\n",
    "        else:\n",
    "            self.history[1].append(offer)\n",
    "\n",
    "        self.current_player = 1 - self.current_player\n",
    "\n",
    "    def summary(self):\n",
    "        current_player_values = self.p1_values if self.current_player == 0 else self.p2_values\n",
    "        return f\"\"\"\n",
    "        Current player: Player {self.current_player + 1}\n",
    "        Current player's values: {', '.join(map(str, current_player_values))}\n",
    "\n",
    "        Game history:\n",
    "        Player 1's offers: {', '.join([f'[{\", \".join(map(str, offer.p1_offer))}] | [{\", \".join(map(str, offer.p2_offer))}]' for offer in self.history[0]])}\n",
    "        Player 2's offers: {', '.join([f'[{\", \".join(map(str, offer.p1_offer))}] | [{\", \".join(map(str, offer.p2_offer))}]' for offer in self.history[1]])}\n",
    "\n",
    "        The game is {'in progress' if self.in_progress else 'finished'}.\n",
    "\n",
    "        As an AI assistant, you can use this information to analyze the negotiation strategies of both players and provide insights or suggestions for their next moves.\n",
    "        \"\"\""
   ]
  },
  {
   "cell_type": "code",
   "execution_count": 55,
   "metadata": {},
   "outputs": [
    {
     "data": {
      "text/plain": [
       "array([1, 4, 3, 4])"
      ]
     },
     "execution_count": 55,
     "metadata": {},
     "output_type": "execute_result"
    }
   ],
   "source": [
    "g = NegotitaionGame()\n",
    "g.items\n"
   ]
  },
  {
   "cell_type": "code",
   "execution_count": 56,
   "metadata": {},
   "outputs": [],
   "source": [
    "g.step(Offer(np.array([[2, 2, 1, 1], [4, 1, 4, 3]])))\n"
   ]
  },
  {
   "cell_type": "code",
   "execution_count": 57,
   "metadata": {},
   "outputs": [
    {
     "name": "stdout",
     "output_type": "stream",
     "text": [
      "\n",
      "        Current player: Player 2\n",
      "        Current player's values: 41, 55, 15, 58\n",
      "\n",
      "        Game history:\n",
      "        Player 1's offers: [2, 2, 1, 1] | [4, 1, 4, 3]\n",
      "        Player 2's offers: \n",
      "\n",
      "        The game is in progress.\n",
      "\n",
      "        As an AI assistant, you can use this information to analyze the negotiation strategies of both players and provide insights or suggestions for their next moves.\n",
      "        \n"
     ]
    }
   ],
   "source": [
    "print(g.summary())\n"
   ]
  },
  {
   "cell_type": "code",
   "execution_count": 53,
   "metadata": {},
   "outputs": [
    {
     "data": {
      "text/plain": [
       "[<__main__.Offer at 0x142f84338f0>]"
      ]
     },
     "execution_count": 53,
     "metadata": {},
     "output_type": "execute_result"
    }
   ],
   "source": [
    "g.history[0]"
   ]
  },
  {
   "cell_type": "code",
   "execution_count": null,
   "metadata": {},
   "outputs": [],
   "source": []
  }
 ],
 "metadata": {
  "kernelspec": {
   "display_name": "base",
   "language": "python",
   "name": "python3"
  },
  "language_info": {
   "codemirror_mode": {
    "name": "ipython",
    "version": 3
   },
   "file_extension": ".py",
   "mimetype": "text/x-python",
   "name": "python",
   "nbconvert_exporter": "python",
   "pygments_lexer": "ipython3",
   "version": "3.12.2"
  }
 },
 "nbformat": 4,
 "nbformat_minor": 2
}
