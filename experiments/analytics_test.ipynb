{
 "cells": [
  {
   "cell_type": "markdown",
   "metadata": {},
   "source": [
    "## Analytics of Game results"
   ]
  },
  {
   "cell_type": "code",
   "execution_count": null,
   "metadata": {},
   "outputs": [],
   "source": [
    "import matplotlib.pyplot as plt\n",
    "import numpy as np\n",
    "import pandas as pd\n",
    "import seaborn as sns\n",
    "import torch\n",
    "import itertools\n",
    "import json\n",
    "import re\n",
    "import sys\n",
    "sys.path.append('../')\n",
    "\n",
    "from utils.analytics import *\n",
    "\n"
   ]
  },
  {
   "cell_type": "markdown",
   "metadata": {},
   "source": [
    "## Plot mistakes"
   ]
  },
  {
   "cell_type": "markdown",
   "metadata": {},
   "source": [
    "## Analyze Single Circle for dominated Strategies"
   ]
  },
  {
   "cell_type": "code",
   "execution_count": null,
   "metadata": {},
   "outputs": [],
   "source": [
    "'''\n",
    "- Mistake 1: Making an offer worse than your previous offer. This occurs when you reject an offer better for you than the one you subsequently propose. \n",
    "- Mistake 2: Making an offer worse for you than your outside offer. This happens if you propose giving away so much that what you keep is worth less than your guaranteed alternative, which is your outside offer.\n",
    "- Mistake 3: Offering no items or all items. Offering nothing (or everything) to the opponent (in the early or middle rounds) can be a clear suboptimal move. \n",
    "- Mistake 4: Accepting an offer worse for you than your outside offer. This occurs if you accept a division that yields a payoff lower than your guaranteed fallback.\n",
    "- Mistake 5: Walking away from an offer better than your outside offer. This occurs when you reject a division that actually yields a higher payoff than your fallback.\n",
    "'''\n",
    "circles = [0, 1, 3, 4, 5, 6]\n",
    "\n",
    "for circle in circles:\n",
    "    print(f\"Analyzing circle {circle}\")\n",
    "    print(\"=\"*100)\n",
    "    \n",
    "    # Analyze circle with 4o\n",
    "    json_FILE_PATH_4o = f\"/Users/gabesmithline/Desktop/caif_negotiation/experiments/4o_final/4o_1_28_2025_100_circle_{circle}.json\"\n",
    "    mistake_counts_4o = analyze_circle6(json_FILE_PATH_4o)\n",
    "    print(f\"4o mistake counts: {mistake_counts_4o}\")\n",
    "    \n",
    "    # Analyze circle with gemini_2.0\n",
    "    json_FILE_PATH_gemini = f\"/Users/gabesmithline/Desktop/caif_negotiation/experiments/gemini_2.0_final/gemini_2.0_1_28_2025_circle_{circle}.json\"\n",
    "    mistake_counts_gemini = analyze_circle6(json_FILE_PATH_gemini)\n",
    "    print(f\"gemini_2.0 mistake counts: {mistake_counts_gemini}\")\n",
    "\n",
    "    json_FILE_PATH_o3_mini = f\"/Users/gabesmithline/Desktop/caif_negotiation/experiments/o3-mini/all_game_data_2_4_2025_100_o3-mini_circle_{circle}.json\"\n",
    "    mistake_counts_o3 = analyze_circle6(json_FILE_PATH_o3_mini)\n",
    "    print(f\"o3 mistake counts: {mistake_counts_o3}\")\n",
    "\n",
    "\n",
    "    \n",
    "    # Prepare data for radar chart\n",
    "    ds_data_for_circle = {\n",
    "        f\"4o_circle_{circle}\": mistake_counts_4o,\n",
    "        f\"gemini_2.0_circle_{circle}\": mistake_counts_gemini,\n",
    "        f\"o3-mini{circle}\": mistake_counts_o3\n",
    "    }\n",
    "    \n",
    "    # Plot a single radar chart comparing 4o and gemini_2.0 for this circle\n",
    "    plot_mistakes_radar_multiple_circles(ds_data_for_circle, f\"Circle {circle}\")"
   ]
  },
  {
   "cell_type": "markdown",
   "metadata": {},
   "source": [
    "## Plot Dominated Strats across multiple circles for different LLMs"
   ]
  },
  {
   "cell_type": "code",
   "execution_count": null,
   "metadata": {},
   "outputs": [],
   "source": [
    "circles = [0, 1, 2, 3, 4, 5, 6]\n",
    "stats_total = []  # will hold tuples of (stats, num_games)\n",
    "\n",
    "for circle in circles:\n",
    "    print(f\"{'='*50} Circle: {circle} {'='*50}\")\n",
    "    #json_FILE_PATH = f\"/Users/gabesmithline/Desktop/caif_negotiation/experiments/4o_final/4o_1_28_2025_100_circle_{circle}.json\"\n",
    "    #json_FILE_PATH = f\"/Users/gabesmithline/Desktop/caif_negotiation/experiments/gemini_2.0_final/gemini_2.0_1_28_2025_circle_{circle}.json\"\n",
    "    json_FILE_PATH = f\"/Users/gabesmithline/Desktop/caif_negotiation/experiments/o3-mini/all_game_data_2_4_2025_100_o3-mini_circle_{circle}.json\"\n",
    "\n",
    "    stats, num_games = count_game_actions(json_FILE_PATH)\n",
    "    stats_total.append((stats, num_games))\n",
    "\n",
    "    # Print table for that circle\n",
    "    print_game_action_stats(stats)\n",
    "\n",
    "# Now aggregate across all circles\n",
    "agg_stats, total_games = aggregate_stats_across_circles(stats_total)\n",
    "print(\"\\n\\nAggregated action counts across all circles:\\n\")\n",
    "print_game_action_stats(agg_stats)\n",
    "\n",
    "print(\"\\n\\nAverage actions per game across all circles:\\n\")\n",
    "print_averages_across_all_games(agg_stats, total_games)"
   ]
  },
  {
   "cell_type": "markdown",
   "metadata": {},
   "source": [
    "## Count game actions (ACCEPT, WALK, etc.) for a single circle"
   ]
  },
  {
   "cell_type": "code",
   "execution_count": null,
   "metadata": {},
   "outputs": [],
   "source": [
    "compute_and_plot_metrics(\n",
    "    #json_file_path = \"/Users/gabesmithline/Desktop/caif_negotiation/experiments/gemini_2.0_final/gemini_2.0_1_28_2025_circle_6.json\",\n",
    "    json_file_path = \"/Users/gabesmithline/Desktop/caif_negotiation/experiments/4o_final/4o_1_28_2025_100_circle_6.json\",\n",
    "    circle_name = \"circle_6\",\n",
    "    llm_name = \"4o\",\n",
    "    gamma = 0.9\n",
    ")"
   ]
  },
  {
   "cell_type": "markdown",
   "metadata": {},
   "source": [
    "##  Aggregate stats over multiple circles"
   ]
  },
  {
   "cell_type": "code",
   "execution_count": null,
   "metadata": {},
   "outputs": [],
   "source": [
    "analyze_llm_all_circles(\n",
    "        llm_name = \"gemini_2.0_1_28_2025\",\n",
    "        base_path=\"/Users/gabesmithline/Desktop/caif_negotiation/experiments/gemini_2.0_final\",\n",
    "        circles=range(7)\n",
    "    )\n"
   ]
  },
  {
   "cell_type": "markdown",
   "metadata": {},
   "source": [
    "## Compute and Plot Detailed Metrics"
   ]
  },
  {
   "cell_type": "code",
   "execution_count": null,
   "metadata": {},
   "outputs": [],
   "source": [
    "compare_llm_across_circles_with_stats_confint_and_distributions(\n",
    "    #base_path=\"/Users/gabesmithline/Desktop/caif_negotiation/experiments/gemini_2.0_final/gemini_2.0_1_28_2025_circle_{circle}.json\",\n",
    "    #base_path= \"/Users/gabesmithline/Desktop/caif_negotiation/experiments/o3-mini/all_game_data_2_4_2025_100_o3-mini_circle_{circle}.json\",\n",
    "    #base_path=\"/Users/gabesmithline/Desktop/caif_negotiation/experiments/4o_final/4o_1_28_2025_100_circle_{circle}.json\",\n",
    "    #base_path=\"/Users/gabesmithline/Desktop/caif_negotiation/experiments/4o_small_final/4o_2_6_2025_100_circle_{circle}_small.json\",\n",
    "    base_path=\"/Users/gabesmithline/Desktop/caif_negotiation/experiments/all_game_data_2_17_2025_300_4o_vs_4o_normal_distribution_circle_{circle}.json\",\n",
    "\n",
    "    circle_list=[0,1,2,3,4,5,6],\n",
    "    llm_name=\"4o\",\n",
    "    gamma=0.9\n",
    ")\n"
   ]
  },
  {
   "cell_type": "code",
   "execution_count": null,
   "metadata": {},
   "outputs": [],
   "source": [
    "compare_llm_across_circles_with_stats_confint_and_distributions(\n",
    "    #base_path=\"/Users/gabesmithline/Desktop/caif_negotiation/experiments/gemini_2.0_final/gemini_2.0_1_28_2025_circle_{circle}.json\",\n",
    "    #base_path= \"/Users/gabesmithline/Desktop/caif_negotiation/experiments/o3-mini/all_game_data_2_4_2025_100_o3-mini_circle_{circle}.json\",\n",
    "    base_path=\"/Users/gabesmithline/Desktop/caif_negotiation/experiments/4o_final/4o_1_28_2025_100_circle_{circle}.json\",\n",
    "    #base_path=\"/Users/gabesmithline/Desktop/caif_negotiation/experiments/4o_small_final/4o_2_6_2025_100_circle_{circle}_small.json\",\n",
    "    #base_path=\"/Users/gabesmithline/Desktop/caif_negotiation/experiments/all_game_data_2_17_2025_300_4o_vs_4o_normal_distribution_circle_{circle}.json\",\n",
    "\n",
    "    circle_list=[0,1,2,3,4,5,6],\n",
    "    llm_name=\"4o\",\n",
    "    gamma=0.9\n",
    ")\n"
   ]
  },
  {
   "cell_type": "markdown",
   "metadata": {},
   "source": [
    "## Further Analysis across all circles"
   ]
  },
  {
   "cell_type": "code",
   "execution_count": null,
   "metadata": {},
   "outputs": [],
   "source": [
    "\n",
    "compare_llms_for_circle(\n",
    "    base_path1 = \"/Users/gabesmithline/Desktop/caif_negotiation/experiments/gemini_2.0_final/{llm}_1_28_2025_circle_{circle}.json\",\n",
    "    base_path2 = \"/Users/gabesmithline/Desktop/caif_negotiation/experiments/4o_final/{llm}_1_28_2025_100_circle_{circle}.json\",\n",
    "    circle_number = 2,\n",
    "    llm_list = [\"gemini_2.0\", \"4o\"],\n",
    "    gamma = 0.9\n",
    ")"
   ]
  },
  {
   "cell_type": "markdown",
   "metadata": {},
   "source": [
    "## Detailed Metrics"
   ]
  }
 ],
 "metadata": {
  "kernelspec": {
   "display_name": "Python 3",
   "language": "python",
   "name": "python3"
  },
  "language_info": {
   "codemirror_mode": {
    "name": "ipython",
    "version": 3
   },
   "file_extension": ".py",
   "mimetype": "text/x-python",
   "name": "python",
   "nbconvert_exporter": "python",
   "pygments_lexer": "ipython3",
   "version": "3.11.9"
  }
 },
 "nbformat": 4,
 "nbformat_minor": 2
}
