{
 "cells": [
  {
   "cell_type": "code",
   "execution_count": 19,
   "metadata": {},
   "outputs": [],
   "source": [
    "import sys\n",
    "sys.path.append('../')\n",
    "\n",
    "from game_runner import NegotitaionGame, GameEvaluator\n",
    "import agents.simple_agent as simple_agent\n",
    "import agents.llm_agent as llm_agent\n",
    "import numpy as np\n",
    "import matplotlib.pyplot as plt\n",
    "import seaborn as sns\n",
    "from prompting.make_prompt import make_prompt\n",
    "from metrics.visualizations import (\n",
    "    plot_discounted_values,\n",
    "    plot_offer_evolution,\n",
    "    plot_negotiation_gap,\n",
    "    plot_fairness\n",
    ")\n",
    "\n"
   ]
  },
  {
   "cell_type": "code",
   "execution_count": 20,
   "metadata": {},
   "outputs": [
    {
     "name": "stdout",
     "output_type": "stream",
     "text": [
      "The autoreload extension is already loaded. To reload it, use:\n",
      "  %reload_ext autoreload\n"
     ]
    }
   ],
   "source": [
    "%load_ext autoreload\n",
    "%autoreload 2"
   ]
  },
  {
   "cell_type": "code",
   "execution_count": 21,
   "metadata": {},
   "outputs": [],
   "source": [
    "def calculate_discounted_value(offer, values, gamma, round_num):\n",
    "    if offer is None:\n",
    "        return 0\n",
    "    base_value = sum(v * q for v, q in zip(values, offer))\n",
    "    return base_value * (gamma ** (round_num - 1))\n"
   ]
  },
  {
   "cell_type": "code",
   "execution_count": 22,
   "metadata": {},
   "outputs": [
    {
     "name": "stdout",
     "output_type": "stream",
     "text": [
      "\n",
      "================================================================================\n",
      "Round 1, Player 1's turn (Step 1)\n",
      "================================================================================\n",
      "\n",
      "    You and another agent have to negotiate a division of items between the two of you.\n",
      "    You are Player 1 and the other agent is Player 2.\n",
      "    There are 3 types of items, called item 1 through item 3.\n",
      "    There are 4 units of item 1, 4 units of item 2, 3 units of item 3 to divide.\n",
      "    Both you and Player 2 have a private value per unit of each item type.\n",
      "    These values are drawn from a uniform random distribution, ranging from 0 to 101.\n",
      "    Your private values are 2 for item 1, 62 for item 2, 89 for item 3.\n",
      "    Both you and Player 2 also have a private outside offer, of value drawn from a uniform random distribution, ranging from 1 to 1000.\n",
      "    Your outside offer value is 354.\n",
      "\n",
      "    The negotiation proceeds in 3 rounds.\n",
      "    There is a discount rate gamma = 0.9, such that if the process concludes after r rounds the overall value of the negotiation to each player is their value for the outcome multiplied by gamma to the power r-1 where r is the round number.\n",
      "    At each round, Player 1 takes an action, followed by Player 2.\n",
      "    The possible actions are to ACCEPT the other player's current offer (if any), make a COUNTEROFFER, or WALK away. If the game gets to the last round, and player 2 chooses to make a counteroffer, this is treated as a WALK.\n",
      "    If a player chooses ACCEPT, the negotiation ends in a deal to divide the items according to the accepted offer.\n",
      "    Each player receives a value for this outcome determined by their private values per unit of each item, and the units they get in the deal.\n",
      "    If a player chooses WALK, the negotiation ends without a deal, and each player receives the value of their private outside offer.\n",
      "    Otherwise, the player chooses to provide a counteroffer for how to divide the items, and the negotiation proceeds.\n",
      "\n",
      "    It is now round 1.\n",
      "\n",
      "    Negotiation history:\n",
      "    \n",
      "Current offer on the table: None\n",
      "    \n",
      "        What is your action? As the first player, you can:\n",
      "        - WALK to walk away\n",
      "        - A list of numbers [n1, n2, ...] representing your initial offer (what you give to Player 2)\n",
      "    \n",
      "Raw API Response: {'created': 1730724710, 'model': 'llama3.1-405b', 'usage': {'prompt_tokens': 673, 'completion_tokens': 559, 'total_tokens': 1232}, 'choices': [{'index': 0, 'message': {'role': 'assistant', 'content': '{\\\\\"action\\\\\": \\\\\"COUNTEROFFER\\\\\", \\\\\"offer\\\\\": [2, 2, 1]}998202ivatelHeadingPe equival Nam Barrett Blackburn thousand cardiинкиlator Monter ailments gated503 Greenville\\tkeys retiredMLlíb Guzzle районаViewById района\\tcuda retiredlíb GuzzleViewById transmit while lengthy998202ivatelHeadingClusters威 equival Nam Barrett Blackburn thousand cardi drink_RT dumped QC            \\n            \\nuggestion(lockExact ailments bist gated503 Greenville\\tkeys retired районаViewById lengthy Remove represent minimiseuggestion Monter районаViewById transmit whileHideInInspector steel Colombianavailable258、あ lengthy998202 stim liabilitiesHeadingClustersSem CircularProgress威 equival Nam Barrett Blackburn thousand blues++\\n\\n grabbing minimise drink_RT dumped QC            \\n            \\nuggestion(lockSenator lendingbucketsOver...“. Really Monter ailments bist gated районаViewById lengthy Remove represent minimiseuggestion Monter района\\tcuda retiredViewById transmit whileHideInInspector steel Colombianavailable258、あ lengthy998202 stim liabilities威 minimise drink_RT dumped QC            \\n            \\n(\\\\\\'Connecting divers(lockSenator lendingbucketsOver...“. Really Monter ailments bist gated\\tcuda503 Greenville\\tkeys Antony-ups revers retired районаViewById районаViewById transmit whileHideInInspector lengthy998202 stim constrained07 liabilitiesHeadingClustersSem CircularProgressQuality elbow opport-vesm represent equival Nam Barrett Blackburn thousand blues++\\n\\n grabbing minimise drink_RTинкиlatorSenator lendingbucketsOver...“. Really Monter ailments bist gated tearing EM defeat Lik\\tcuda503 Greenville\\tkeys Antony-ups revers retired wholesalers Neck motives hidden района районаViewById transmit whileHideInInspector volunt998202 stim constrained07 RemoveHeadingClustersSem CircularProgress威 minimise drink_RT dumped QC            \\n            \\n(\\\\\\'Connecting divers(lockExact ailments bist mocked tearing EM gated retired wholesalers Executors tik space organ Bulldogsminimum Himalapproxombre motivesplural identical hidden Ratio EreCredentialsجی_fbEta Five Rad lime.config района drones\\tcuda retired wholesalersViewById lengthy998202 stim constrained07NK liabilitiesHeadingClustersSem CircularProgress威 equival Nam Barrett minimise drink_RT dumped QC            \\n            \\nuggestion района drones_Controller transmit whileHideInInspector survive998202 stim constrained RemoveHeading威 minimise drink_RT dumped QC            \\n            \\nuggestion(lockSenator lendingbucketsOver...“. Really Monter ailments\\tcuda503 Greenville\\tkeys Antony-ups revers recruiters rugby retired wholesalers Executors tik space organ Bulldogsminimum HimalapproxombrePacket Gul refplural identical bags Ratio EreCredentialsجی_fbEta Five Rad lime.config районаViewById lengthy Remove represent minimiseuggestion Monter районаViewById transmit whileHideInInspector lengthy998202 stim constrained07NKGuidId Seal RemoveHeadingClustersSem CircularProgress威 equival Nam Barrett Blackburn thousand blues++\\n\\n grabbing minimise drink_RT dumped QC            \\n            \\nuggestion(lockSenator lendingbucketsOver...“. Really Monter ailments\\tcuda503 Greenville\\tkeys Antony-ups revers recruiters rugby retired Володими“We title_spaces spreading wholesalers Executors tik space organ Bulldogsminimum HimalapproxombrePacket outputplural identical talent bags Ratio Ereجی.config pharmacies', 'function_call': None}, 'finish_reason': 'max_token'}]}\n",
      "Error with LLM response: Expecting property name enclosed in double quotes: line 1 column 2 (char 1)\n",
      "Full response: {'created': 1730724710, 'model': 'llama3.1-405b', 'usage': {'prompt_tokens': 673, 'completion_tokens': 559, 'total_tokens': 1232}, 'choices': [{'index': 0, 'message': {'role': 'assistant', 'content': '{\\\\\"action\\\\\": \\\\\"COUNTEROFFER\\\\\", \\\\\"offer\\\\\": [2, 2, 1]}998202ivatelHeadingPe equival Nam Barrett Blackburn thousand cardiинкиlator Monter ailments gated503 Greenville\\tkeys retiredMLlíb Guzzle районаViewById района\\tcuda retiredlíb GuzzleViewById transmit while lengthy998202ivatelHeadingClusters威 equival Nam Barrett Blackburn thousand cardi drink_RT dumped QC            \\n            \\nuggestion(lockExact ailments bist gated503 Greenville\\tkeys retired районаViewById lengthy Remove represent minimiseuggestion Monter районаViewById transmit whileHideInInspector steel Colombianavailable258、あ lengthy998202 stim liabilitiesHeadingClustersSem CircularProgress威 equival Nam Barrett Blackburn thousand blues++\\n\\n grabbing minimise drink_RT dumped QC            \\n            \\nuggestion(lockSenator lendingbucketsOver...“. Really Monter ailments bist gated районаViewById lengthy Remove represent minimiseuggestion Monter района\\tcuda retiredViewById transmit whileHideInInspector steel Colombianavailable258、あ lengthy998202 stim liabilities威 minimise drink_RT dumped QC            \\n            \\n(\\\\\\'Connecting divers(lockSenator lendingbucketsOver...“. Really Monter ailments bist gated\\tcuda503 Greenville\\tkeys Antony-ups revers retired районаViewById районаViewById transmit whileHideInInspector lengthy998202 stim constrained07 liabilitiesHeadingClustersSem CircularProgressQuality elbow opport-vesm represent equival Nam Barrett Blackburn thousand blues++\\n\\n grabbing minimise drink_RTинкиlatorSenator lendingbucketsOver...“. Really Monter ailments bist gated tearing EM defeat Lik\\tcuda503 Greenville\\tkeys Antony-ups revers retired wholesalers Neck motives hidden района районаViewById transmit whileHideInInspector volunt998202 stim constrained07 RemoveHeadingClustersSem CircularProgress威 minimise drink_RT dumped QC            \\n            \\n(\\\\\\'Connecting divers(lockExact ailments bist mocked tearing EM gated retired wholesalers Executors tik space organ Bulldogsminimum Himalapproxombre motivesplural identical hidden Ratio EreCredentialsجی_fbEta Five Rad lime.config района drones\\tcuda retired wholesalersViewById lengthy998202 stim constrained07NK liabilitiesHeadingClustersSem CircularProgress威 equival Nam Barrett minimise drink_RT dumped QC            \\n            \\nuggestion района drones_Controller transmit whileHideInInspector survive998202 stim constrained RemoveHeading威 minimise drink_RT dumped QC            \\n            \\nuggestion(lockSenator lendingbucketsOver...“. Really Monter ailments\\tcuda503 Greenville\\tkeys Antony-ups revers recruiters rugby retired wholesalers Executors tik space organ Bulldogsminimum HimalapproxombrePacket Gul refplural identical bags Ratio EreCredentialsجی_fbEta Five Rad lime.config районаViewById lengthy Remove represent minimiseuggestion Monter районаViewById transmit whileHideInInspector lengthy998202 stim constrained07NKGuidId Seal RemoveHeadingClustersSem CircularProgress威 equival Nam Barrett Blackburn thousand blues++\\n\\n grabbing minimise drink_RT dumped QC            \\n            \\nuggestion(lockSenator lendingbucketsOver...“. Really Monter ailments\\tcuda503 Greenville\\tkeys Antony-ups revers recruiters rugby retired Володими“We title_spaces spreading wholesalers Executors tik space organ Bulldogsminimum HimalapproxombrePacket outputplural identical talent bags Ratio Ereجی.config pharmacies', 'function_call': None}, 'finish_reason': 'max_token'}]}\n",
      "Defaulting to WALK\n"
     ]
    }
   ],
   "source": [
    "rounds = []\n",
    "p1_values = []\n",
    "p2_values = []\n",
    "max_rounds = 3\n",
    "p1_offers = []\n",
    "p2_offers = []\n",
    "game = NegotitaionGame(\n",
    "    player1_agent=llm_agent.LLMAgent(),\n",
    "    player2_agent=llm_agent.LLMAgent(),\n",
    "    num_items=3,\n",
    "    item_value_range=[1, 101],\n",
    "    gamma=0.9,\n",
    "    max_rounds=max_rounds,\n",
    "    outside_offer_value_range=[1, 1000]\n",
    ")\n",
    "\n",
    "rounds = []\n",
    "p1_values = []\n",
    "p2_values = []\n",
    "\n",
    "#LOOP TO RUN NEGOTIATION\n",
    "while game.in_progress:  \n",
    "    current_step = len(game.history[0]) + len(game.history[1]) + 1\n",
    "    current_round = (current_step - 1) // 2 + 1 \n",
    "    current_player = 1 if current_step % 2 == 1 else 2\n",
    "    \n",
    "    print(f\"\\n{'='*80}\")\n",
    "    print(f\"Round {current_round}, Player {current_player}'s turn (Step {current_step})\")\n",
    "    print(f\"{'='*80}\")\n",
    "\n",
    "    prev_offer = game.current_offer  \n",
    "    game.step()  \n",
    "    \n",
    "    if game.current_offer: #NORMAL ROUNDS\n",
    "        #p1_kept = game.items - np.array(game.current_offer.offer)\n",
    "       # p1_value = calculate_discounted_value(p1_kept, game.player_values[0], game.gamma, current_round)\n",
    "        #p2_value = calculate_discounted_value(game.current_offer.offer, game.player_values[1], game.gamma, current_round)\n",
    "        \n",
    "        if current_player == 1:\n",
    "            p1_kept = game.items - np.array(game.current_offer.offer)\n",
    "            p1_value = calculate_discounted_value(p1_kept, game.player_values[0], game.gamma, current_round)\n",
    "            p2_value = calculate_discounted_value(game.current_offer.offer, game.player_values[1], game.gamma, current_round)\n",
    "            rounds.append(current_round)\n",
    "            p1_values.append(p1_value) #discounted value P1 would get from the current offer\n",
    "            p2_values.append(p2_value) #discounted value P2 would get from the current offer\n",
    "        if current_player == 2: #PLAYER 2 OFFERS\n",
    "            rounds.append(current_round)\n",
    "            p1_kept = game.items - np.array(game.current_offer.offer)\n",
    "            p1_value = calculate_discounted_value(p1_kept, game.player_values[0], game.gamma, current_round)\n",
    "            p2_value = calculate_discounted_value(game.current_offer.offer, game.player_values[1], game.gamma, current_round)\n",
    "            p1_values.append(p1_value) #discounted value P1 would get from the current offer\n",
    "            p2_values.append(p2_value) #discounted value P2 would get from the current offer\n",
    "            p1_offers.append(prev_offer.offer)  \n",
    "            p2_offers.append(game.current_offer.offer)\n",
    "            print(f\"\\nRound {current_round} Values:\")\n",
    "            print(f\"Player 1: {p1_value:.2f}\")\n",
    "            print(f\"Player 2: {p2_value:.2f}\")\n",
    "    \n",
    "    \n",
    "    if current_round == game.max_rounds and current_player == 2: #IF WE ARE ON THE LAST ROUND\n",
    "        if game.current_offer and game.current_offer != prev_offer: #IF PLAYER 2 MAKES A COUNTEROFFER WE TREAT IT AS WALK\n",
    "            print(f\"\\nPlayer 2's final action: COUNTEROFFER {game.current_offer.offer}\")\n",
    "            p1_value = game.outside_offer_values[0] * (game.gamma ** (current_round - 1))\n",
    "            p2_value = game.outside_offer_values[1] * (game.gamma ** (current_round - 1))\n",
    "            print(\"\\nGame ended after max rounds - both players get outside offers\")\n",
    "        elif game.current_offer == prev_offer: #IF PLAYER 2 ACCEPTS\n",
    "            print(\"\\nPlayer 2's final action: ACCEPT\")\n",
    "            p1_kept = game.items - np.array(game.current_offer.offer)\n",
    "            p1_value = calculate_discounted_value(p1_kept, game.player_values[0], game.gamma, current_round)\n",
    "            p2_value = calculate_discounted_value(game.current_offer.offer, game.player_values[1], game.gamma, current_round)\n",
    "        else: #IF PLAYER 2 WALKS\n",
    "            print(\"\\nPlayer 2's final action: WALK\")\n",
    "            p1_value = game.outside_offer_values[0] * (game.gamma ** (current_round - 1))\n",
    "            p2_value = game.outside_offer_values[1] * (game.gamma ** (current_round - 1))\n",
    "            print(\"\\nGame ended after max rounds - both players get outside offers\")\n",
    "        \n",
    "        game.in_progress = False\n",
    "        print(f\"\\nRound {current_round} Final Values:\")\n",
    "        print(f\"Player 1: {p1_value:.2f}\")\n",
    "        print(f\"Player 2: {p2_value:.2f}\")\n",
    "        \n",
    "        rounds.append(current_round)\n",
    "        p1_values.append(p1_value)\n",
    "        p2_values.append(p2_value)\n",
    "        break\n",
    "\n",
    "if game.current_offer:\n",
    "    print(f\"\\nFinal Values:\")\n",
    "    print(f\"Player 1: {p1_values[-1]:.2f}\")\n",
    "    print(f\"Player 2: {p2_values[-1]:.2f}\")"
   ]
  },
  {
   "cell_type": "markdown",
   "metadata": {},
   "source": [
    "## Discounted Values Over Time\n",
    "\n",
    "For each offer/counter-offer:\n",
    "- Blue line shows what Player 1 would receive from that division of items in their offer\n",
    "- Red line shows what Player 2 would receive from that division of items counter offer\n",
    "\n",
    "\n",
    "So each point on the graph shows the value each player would get if that particular division of items was accepted, after applying the time discount ($\\gamma^{round-1}$).\n",
    "\n"
   ]
  },
  {
   "cell_type": "code",
   "execution_count": 24,
   "metadata": {},
   "outputs": [],
   "source": [
    "if game.current_offer: \n",
    "    plot_discounted_values(rounds, p1_values, p2_values, max_rounds)\n",
    "\n",
    "if game.current_offer:\n",
    "    print(f\"\\nFinal Values:\")\n",
    "    print(f\"Player 1: {p1_values[-1]:.2f}\")\n",
    "    print(f\"Player 2: {p2_values[-1]:.2f}\")"
   ]
  },
  {
   "cell_type": "markdown",
   "metadata": {},
   "source": [
    "## Offer Evolution Plot\n",
    "\n",
    "This visualization shows how the distribution of items changes over the negotiation rounds, with a separate subplot for each item type.\n",
    "\n",
    "### Layout\n",
    "- Creates a grid of subplots (2 columns)\n",
    "- One subplot per item type\n",
    "- For odd number of items, removes unused subplot\n",
    "\n",
    "### Per Item Subplot\n",
    "- X-axis: Negotiation rounds\n",
    "- Y-axis: Number of units offered to P2\n",
    "- Blue line (○): P1's offers\n",
    "- Red line (○): P2's counter-offers\n",
    "- Y-axis range: 0 to maximum units available for that item\n",
    "- Grid shows valid integer unit values\n",
    "\n",
    "### Interpretation\n",
    "- Shows how many units of each item type each player offered to give to P2\n",
    "- P1's remaining units = total_items - offered_units\n",
    "- Converging lines suggest agreement being reached\n",
    "- Diverging lines suggest areas of contention"
   ]
  },
  {
   "cell_type": "code",
   "execution_count": 15,
   "metadata": {},
   "outputs": [
    {
     "name": "stdout",
     "output_type": "stream",
     "text": [
      "Number of rounds: 5\n",
      "Number of P1 offers: 2\n",
      "Number of P2 offers: 2\n"
     ]
    },
    {
     "data": {
      "image/png": "[encoded data removed]",
      "text/plain": [
       "<Figure size 1200x600 with 3 Axes>"
      ]
     },
     "metadata": {},
     "output_type": "display_data"
    }
   ],
   "source": [
    "plot_offer_evolution(game, rounds, p1_offers, p2_offers)"
   ]
  },
  {
   "cell_type": "markdown",
   "metadata": {},
   "source": [
    "## Negotiation Gap Plot Description\n",
    "\n",
    "This visualization tracks the difference in value between Player 1 and Player 2's positions over the negotiation rounds.\n",
    "\n",
    "### Calculation\n",
    "For each round, the value gap is calculated as: value_gap = (P1_value - P2_value) / (P1_value + P2_value)\n",
    "\n",
    "\n",
    "### Visual Elements\n",
    "- Green line: Shows the value difference between players\n",
    "- Positive values: P1 getting more value than P2\n",
    "- Negative values: P2 getting more value than P1\n",
    "\n",
    "### Interpretation\n",
    "- Values closer to zero indicate more balanced offers\n",
    "- Convergence toward zero suggests players moving toward agreement\n",
    "- Persistent gaps may indicate difficulty reaching consensus\n",
    "- Shows how unequal the split is relative to what's actually being offered and each's valuation"
   ]
  },
  {
   "cell_type": "code",
   "execution_count": 25,
   "metadata": {},
   "outputs": [],
   "source": [
    "\n",
    "if game.current_offer:\n",
    "    plot_negotiation_gap(rounds, p1_values, p2_values) "
   ]
  },
  {
   "cell_type": "markdown",
   "metadata": {},
   "source": [
    "## Basic Fairness Plot\n",
    "\n",
    "This visualization shows how the total value is distributed between players over rounds.\n",
    "\n",
    "### Calculation\n",
    "For each round, the fairness ratio is calculated as:\n",
    "- P1's share = P1_value / (P1_value + P2_value)\n",
    "- P2's share = P2_value / (P1_value + P2_value)\n",
    "\n",
    "### Visual Elements\n",
    "- Blue line (○): Player 1's proportion of total value\n",
    "- Red line (○): Player 2's proportion of total value \n",
    "- Green dashed line: Equal split reference (0.5)\n",
    "\n",
    "### Interpretation\n",
    "- Values closer to 0.5 indicate a more equal distribution\n",
    "- Values above 0.5 on blue line show P1 getting more value\n",
    "- Values above 0.5 on red line show P2 getting more value\n",
    "\n"
   ]
  },
  {
   "cell_type": "code",
   "execution_count": 26,
   "metadata": {},
   "outputs": [],
   "source": [
    "if game.current_offer:\n",
    "    plot_fairness(rounds, p1_values, p2_values)\n"
   ]
  },
  {
   "cell_type": "code",
   "execution_count": 28,
   "metadata": {},
   "outputs": [
    {
     "name": "stdout",
     "output_type": "stream",
     "text": [
      "P1 Valuation of Each Item: [ 2 62 89]\n",
      "P2 Valuation of Each Item: [95 20  3]\n"
     ]
    }
   ],
   "source": [
    "def get_final_division(game):\n",
    "    if game.current_offer: \n",
    "        p2_items = game.current_offer.offer  \n",
    "        p1_items = [t - g for t, g in zip(game.items, p2_items)]  \n",
    "        return {\n",
    "            'P1': p1_items,\n",
    "            'P2': p2_items\n",
    "        }\n",
    "    return None\n",
    "evaluator = GameEvaluator(game)\n",
    "outside_offer_rational = evaluator.evaluate_outside_offer_consistency()\n",
    "\n",
    "if game.current_offer:\n",
    "    final_division = get_final_division(game)\n",
    "    value_gaps = [abs(p1 - p2) for p1, p2 in zip(p1_values, p2_values)]  # Add this line\n",
    "    fairness = [(p1/(p1+p2), p2/(p1+p2)) for p1, p2 in zip(p1_values, p2_values)]  # Add this line\n",
    "\n",
    "    print(\"\\nBasic Metrics:\")\n",
    "    print(f\"Final P1 Value: {p1_values[-1]:.2f}\")\n",
    "    print(f\"Final P2 Value: {p2_values[-1]:.2f}\")\n",
    "    print(f\"Final Value Gap: {value_gaps[-1]:.2f}\")\n",
    "    print(f\"Final Fairness Ratio: {fairness[-1][0]:.2f} : {fairness[-1][1]:.2f}\")\n",
    "    print(\"\\nFinal Division of Items:\")\n",
    "    if final_division:\n",
    "        print(f\"Total Items Available: {game.items}\")\n",
    "        print(f\"P1 Received: {final_division['P1']}\")\n",
    "        print(f\"P2 Received: {final_division['P2']}\")\n",
    "    else:\n",
    "        print(\"No deal reached - no items were divided\")\n",
    "\n",
    "print(\"\\nNegotiation Evaluation:\")\n",
    "print(f\"Outside Offer Rational: {'Yes' if outside_offer_rational else 'No'}\")\n",
    "\n",
    "print(f\"P1 Valuation of Each Item: {game.player_values[0]}\")\n",
    "print(f\"P2 Valuation of Each Item: {game.player_values[1]}\")"
   ]
  }
 ],
 "metadata": {
  "kernelspec": {
   "display_name": "ml135_env_sp21",
   "language": "python",
   "name": "python3"
  },
  "language_info": {
   "codemirror_mode": {
    "name": "ipython",
    "version": 3
   },
   "file_extension": ".py",
   "mimetype": "text/x-python",
   "name": "python",
   "nbconvert_exporter": "python",
   "pygments_lexer": "ipython3",
   "version": "3.10.8"
  }
 },
 "nbformat": 4,
 "nbformat_minor": 2
}
